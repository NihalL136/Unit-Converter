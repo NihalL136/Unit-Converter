{
 "cells": [
  {
   "cell_type": "code",
   "execution_count": 1,
   "id": "c20dea62",
   "metadata": {},
   "outputs": [
    {
     "name": "stdout",
     "output_type": "stream",
     "text": [
      "Welcome to the Length Converter!\n",
      "1. Meters to Feet\n",
      "2. Feet to Meters\n",
      "Enter your choice (1/2): 1\n",
      "Enter the value to convert: 100\n",
      "100.0 meters is equal to 328.08 feet.\n"
     ]
    }
   ],
   "source": [
    "def meters_to_feet(meters):\n",
    "    return meters * 3.28084\n",
    "\n",
    "def feet_to_meters(feet):\n",
    "    return feet / 3.28084\n",
    "\n",
    "def main():\n",
    "    print(\"Welcome to the Length Converter!\")\n",
    "    print(\"1. Meters to Feet\")\n",
    "    print(\"2. Feet to Meters\")\n",
    "    choice = input(\"Enter your choice (1/2): \")\n",
    "\n",
    "    if choice not in ['1', '2']:\n",
    "        print(\"Invalid choice. Please select 1 or 2.\")\n",
    "        return\n",
    "\n",
    "    value = float(input(\"Enter the value to convert: \"))\n",
    "\n",
    "    if choice == '1':\n",
    "        result = meters_to_feet(value)\n",
    "        print(f\"{value} meters is equal to {result:.2f} feet.\")\n",
    "    else:\n",
    "        result = feet_to_meters(value)\n",
    "        print(f\"{value} feet is equal to {result:.2f} meters.\")\n",
    "\n",
    "if __name__ == \"__main__\":\n",
    "    main()\n"
   ]
  },
  {
   "cell_type": "code",
   "execution_count": null,
   "id": "717c9d33",
   "metadata": {},
   "outputs": [],
   "source": []
  }
 ],
 "metadata": {
  "kernelspec": {
   "display_name": "Python 3 (ipykernel)",
   "language": "python",
   "name": "python3"
  },
  "language_info": {
   "codemirror_mode": {
    "name": "ipython",
    "version": 3
   },
   "file_extension": ".py",
   "mimetype": "text/x-python",
   "name": "python",
   "nbconvert_exporter": "python",
   "pygments_lexer": "ipython3",
   "version": "3.11.3"
  }
 },
 "nbformat": 4,
 "nbformat_minor": 5
}
